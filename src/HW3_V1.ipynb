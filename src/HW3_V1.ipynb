{
 "cells": [
  {
   "attachments": {},
   "cell_type": "markdown",
   "id": "177a0d9b",
   "metadata": {},
   "source": [
    "# Text Sentiment Classification By LSTM\n"
   ]
  },
  {
   "cell_type": "code",
   "execution_count": 1,
   "id": "13ded7b7",
   "metadata": {},
   "outputs": [],
   "source": [
    "import argparse\n",
    "import os\n",
    "import numpy as np\n",
    "import pandas as pd\n",
    "import torch\n",
    "import torch.optim as optim\n",
    "import torch.nn.functional as F\n",
    "from gensim.models import word2vec, Word2Vec\n",
    "from sklearn.model_selection import train_test_split\n",
    "from torch import nn\n",
    "from torch.utils import data\n"
   ]
  },
  {
   "attachments": {},
   "cell_type": "markdown",
   "id": "8813eece",
   "metadata": {},
   "source": [
    "## Data Loading\n"
   ]
  },
  {
   "cell_type": "code",
   "execution_count": 2,
   "id": "2109658f",
   "metadata": {},
   "outputs": [],
   "source": [
    "def load_training_data(path):\n",
    "    # Read training data\n",
    "    if 'Train_label' in path:\n",
    "        with open(path, 'r') as f:\n",
    "            lines = f.readlines()\n",
    "            lines = [line.strip('\\n').split(' ') for line in lines]\n",
    "        x = [line[2:] for line in lines]\n",
    "        y = [line[0] for line in lines]\n",
    "        return x, y\n",
    "    else:\n",
    "        with open(path, 'r') as f:\n",
    "            lines = f.readlines()\n",
    "            x = [line.strip('\\n').split(' ') for line in lines]\n",
    "        return x\n",
    "\n",
    "\n",
    "def load_testing_data(path):\n",
    "    # Read testing data\n",
    "    with open(path, 'r') as f:\n",
    "        lines = f.readlines()\n",
    "        X = [\"\".join(line.strip('\\n').split(\",\")[1:]).strip() for line in lines[1:]]\n",
    "        X = [sen.split(' ') for sen in X]\n",
    "    return X\n",
    "\n",
    "\n",
    "def evaluation(outputs, labels):\n",
    "    # outputs => probability (float)\n",
    "    # labels => labels\n",
    "    outputs[outputs >= 0.5] = 1  # Negtive Sentiment\n",
    "    outputs[outputs < 0.5] = 0  # Positive Sentiment\n",
    "    correct = torch.sum(torch.eq(outputs, labels)).item()\n",
    "    return correct\n"
   ]
  },
  {
   "attachments": {},
   "cell_type": "markdown",
   "id": "319094e6",
   "metadata": {},
   "source": [
    "## Train Word to Vector\n"
   ]
  },
  {
   "cell_type": "code",
   "execution_count": 3,
   "id": "eb723cfb",
   "metadata": {},
   "outputs": [],
   "source": [
    "def train_word2vec(x):\n",
    "    model = word2vec.Word2Vec(x, vector_size=250, window=5, min_count=5, workers=8)\n",
    "    return model\n"
   ]
  },
  {
   "cell_type": "markdown",
   "id": "8bbb8f66",
   "metadata": {},
   "source": [
    "## Data Preprocess\n"
   ]
  },
  {
   "cell_type": "code",
   "execution_count": 4,
   "id": "c14a92fb",
   "metadata": {},
   "outputs": [],
   "source": [
    "class Preprocess():\n",
    "    def __init__(self, sentences, sen_len, w2v_path=\"./w2v.model\"):\n",
    "        self.w2v_path = w2v_path\n",
    "        self.sentences = sentences\n",
    "        self.sen_len = sen_len\n",
    "        self.idx2word = []\n",
    "        self.word2idx = {}\n",
    "        self.embedding_matrix = []\n",
    "\n",
    "    def get_w2v_model(self):\n",
    "        # load word to vector model\n",
    "        self.embedding = Word2Vec.load(self.w2v_path)\n",
    "        self.embedding_dim = self.embedding.vector_size\n",
    "\n",
    "    def add_embedding(self, word):\n",
    "        # add word into embedding\n",
    "        vector = torch.empty(1, self.embedding_dim)\n",
    "        torch.nn.init.uniform_(vector)\n",
    "        self.word2idx[word] = len(self.word2idx)\n",
    "        self.idx2word.append(word)\n",
    "        self.embedding_matrix = torch.cat([self.embedding_matrix, vector], 0)\n",
    "\n",
    "    def make_embedding(self, load=True):\n",
    "        print(\"Get embedding ...\")\n",
    "        if load:\n",
    "            print(\"loading word to vec model ...\")\n",
    "            self.get_w2v_model()\n",
    "        else:\n",
    "            raise NotImplementedError\n",
    "\n",
    "        for i, word in enumerate(self.embedding.wv.key_to_index):\n",
    "            print('get words #{}'.format(i+1), end='\\r')\n",
    "            self.word2idx[word] = len(self.word2idx)\n",
    "            self.idx2word.append(word)\n",
    "            self.embedding_matrix.append(self.embedding.wv[word])\n",
    "        print('')\n",
    "        self.embedding_matrix = torch.tensor(self.embedding_matrix)\n",
    "        self.add_embedding(\"<PAD>\")\n",
    "        self.add_embedding(\"<UNK>\")\n",
    "        print(\"total words: {}\".format(len(self.embedding_matrix)))\n",
    "        return self.embedding_matrix\n",
    "\n",
    "    def pad_sequence(self, sentence):\n",
    "        if len(sentence) > self.sen_len:\n",
    "            sentence = sentence[:self.sen_len]\n",
    "        else:\n",
    "            pad_len = self.sen_len - len(sentence)\n",
    "            for _ in range(pad_len):\n",
    "                sentence.append(self.word2idx[\"<PAD>\"])\n",
    "        assert len(sentence) == self.sen_len\n",
    "        return sentence\n",
    "\n",
    "    def sentence_word2idx(self):\n",
    "        sentence_list = []\n",
    "        for i, sen in enumerate(self.sentences):\n",
    "            print('sentence count #{}'.format(i+1), end='\\r')\n",
    "            sentence_idx = []\n",
    "            for word in sen:\n",
    "                if (word in self.word2idx.keys()):\n",
    "                    sentence_idx.append(self.word2idx[word])\n",
    "                else:\n",
    "                    sentence_idx.append(self.word2idx[\"<UNK>\"])\n",
    "            sentence_idx = self.pad_sequence(sentence_idx)\n",
    "            sentence_list.append(sentence_idx)\n",
    "        return torch.LongTensor(sentence_list)\n",
    "\n",
    "    def labels_to_tensor(self, y):\n",
    "        # turn labels into tensors\n",
    "        y = [int(label) for label in y]\n",
    "        return torch.LongTensor(y)\n"
   ]
  },
  {
   "attachments": {},
   "cell_type": "markdown",
   "id": "681805af",
   "metadata": {},
   "source": [
    "## Dataset\n"
   ]
  },
  {
   "cell_type": "code",
   "execution_count": 5,
   "id": "8e94b252",
   "metadata": {},
   "outputs": [],
   "source": [
    "class TwitterDataset(data.Dataset):\n",
    "    \"\"\"\n",
    "    Expected data shape like:(data_num, data_len)\n",
    "    Data can be a list of numpy array or a list of lists\n",
    "    input data shape : (data_num, seq_len, feature_dim)\n",
    "\n",
    "    __len__ will return the number of data\n",
    "    \"\"\"\n",
    "\n",
    "    def __init__(self, X, y):\n",
    "        self.data = X\n",
    "        self.label = y\n",
    "\n",
    "    def __getitem__(self, idx):\n",
    "        if self.label is None:\n",
    "            return self.data[idx]\n",
    "        return self.data[idx], self.label[idx]\n",
    "\n",
    "    def __len__(self):\n",
    "        return len(self.data)\n"
   ]
  },
  {
   "attachments": {},
   "cell_type": "markdown",
   "id": "0edad2d4",
   "metadata": {},
   "source": [
    "## LSTM Model\n"
   ]
  },
  {
   "cell_type": "code",
   "execution_count": 6,
   "id": "c331d55d",
   "metadata": {},
   "outputs": [],
   "source": [
    "class LSTM_Net(nn.Module):\n",
    "    def __init__(self, embedding, embedding_dim, hidden_dim, num_layers, dropout=0.5, fix_embedding=True):\n",
    "        super(LSTM_Net, self).__init__()\n",
    "        # embedding layer\n",
    "        self.embedding = torch.nn.Embedding(embedding.size(0), embedding.size(1))\n",
    "        self.embedding.weight = torch.nn.Parameter(embedding)\n",
    "        # Whether fix embedding\n",
    "        self.embedding.weight.requires_grad = False if fix_embedding else True\n",
    "        self.embedding_dim = embedding.size(1)\n",
    "        self.hidden_dim = hidden_dim\n",
    "        self.num_layers = num_layers\n",
    "        self.dropout = dropout\n",
    "        self.lstm = nn.LSTM(embedding_dim, hidden_dim, num_layers=num_layers, batch_first=True)\n",
    "        self.classifier = nn.Sequential(nn.Dropout(dropout),\n",
    "                                        nn.Linear(hidden_dim, 1),\n",
    "                                        nn.Sigmoid())\n",
    "\n",
    "    def forward(self, inputs):\n",
    "        inputs = self.embedding(inputs)\n",
    "        x, _ = self.lstm(inputs, None)\n",
    "        # dimension of x (batch, seq_len, hidden_size)\n",
    "        x = x[:, -1, :]\n",
    "        x = self.classifier(x)\n",
    "        return x\n"
   ]
  },
  {
   "attachments": {},
   "cell_type": "markdown",
   "id": "224650df",
   "metadata": {},
   "source": [
    "## Define Training\n"
   ]
  },
  {
   "cell_type": "code",
   "execution_count": 7,
   "id": "a98882e4",
   "metadata": {},
   "outputs": [],
   "source": [
    "def training(batch_size, n_epoch, lr, train, valid, model, device):\n",
    "    total = sum(p.numel() for p in model.parameters())\n",
    "    trainable = sum(p.numel() for p in model.parameters() if p.requires_grad)\n",
    "    print('\\nstart training, parameter total:{}, trainable:{}\\n'.format(total, trainable))\n",
    "    model.train()  # set training mode\n",
    "    criterion = nn.BCELoss()  # Define loss function\n",
    "    t_batch = len(train)\n",
    "    v_batch = len(valid)\n",
    "    optimizer = optim.Adam(model.parameters(), lr=lr)  # set optimizer as SGD (you can change it)\n",
    "    total_loss, total_acc, best_acc = 0, 0, 0\n",
    "    for epoch in range(n_epoch):\n",
    "        total_loss, total_acc = 0, 0\n",
    "\n",
    "        # For training\n",
    "        for i, (inputs, labels) in enumerate(train):\n",
    "            inputs = inputs.to(device, dtype=torch.long)  # set device \"cuda\"\n",
    "            labels = labels.to(device, dtype=torch.float)  # set device \"cuda\"\n",
    "            optimizer.zero_grad()\n",
    "            outputs = model(inputs)\n",
    "            outputs = outputs.squeeze()\n",
    "            loss = criterion(outputs, labels)\n",
    "            loss.backward()\n",
    "            optimizer.step()\n",
    "            correct = evaluation(outputs, labels)  # calculate accuracy\n",
    "            total_acc += (correct / batch_size)\n",
    "            total_loss += loss.item()\n",
    "            print('[ Epoch{}: {}/{} ] loss:{:.3f} acc:{:.3f} '.format(\n",
    "                epoch+1, i+1, t_batch, loss.item(), correct*100/batch_size), end='\\r')\n",
    "        print('\\nTrain | Loss:{:.5f} Acc: {:.3f}'.format(total_loss/t_batch, total_acc/t_batch*100))\n",
    "\n",
    "        # For validation\n",
    "        model.eval()  # set validation mode\n",
    "        with torch.no_grad():\n",
    "            total_loss, total_acc = 0, 0\n",
    "            for i, (inputs, labels) in enumerate(valid):\n",
    "                inputs = inputs.to(device, dtype=torch.long)  # set device \"cuda\"\n",
    "                labels = labels.to(device, dtype=torch.float)  # set device \"cuda\"\n",
    "                outputs = model(inputs)\n",
    "                outputs = outputs.squeeze()\n",
    "                loss = criterion(outputs, labels)\n",
    "                correct = evaluation(outputs, labels)\n",
    "                total_acc += (correct / batch_size)\n",
    "                total_loss += loss.item()\n",
    "\n",
    "            print(\"Valid | Loss:{:.5f} Acc: {:.3f} \".format(total_loss/v_batch, total_acc/v_batch*100))\n",
    "            if total_acc > best_acc:\n",
    "                # if the result of validation is better than previous model, save the new model\n",
    "                best_acc = total_acc\n",
    "                torch.save(model, \"ckpt.model\")\n",
    "                print('saving model with acc {:.3f}'.format(total_acc/v_batch*100))\n",
    "        print('-----------------------------------------------')\n",
    "        model.train()\n"
   ]
  },
  {
   "attachments": {},
   "cell_type": "markdown",
   "id": "16554673",
   "metadata": {},
   "source": [
    "## Testing\n"
   ]
  },
  {
   "cell_type": "code",
   "execution_count": 8,
   "id": "80182537",
   "metadata": {},
   "outputs": [],
   "source": [
    "def testing(batch_size, test_loader, model, device):\n",
    "    model.eval()\n",
    "    ret_output = []\n",
    "    with torch.no_grad():\n",
    "        for i, inputs in enumerate(test_loader):\n",
    "            inputs = inputs.to(device, dtype=torch.long)\n",
    "            outputs = model(inputs)\n",
    "            outputs = outputs.squeeze()\n",
    "            outputs[outputs >= 0.5] = 1\n",
    "            outputs[outputs < 0.5] = 0\n",
    "            ret_output += outputs.int().tolist()\n",
    "\n",
    "    return ret_output\n"
   ]
  },
  {
   "cell_type": "code",
   "execution_count": 9,
   "id": "f1f32331",
   "metadata": {},
   "outputs": [
    {
     "name": "stdout",
     "output_type": "stream",
     "text": [
      "loading training data ...\n",
      "loading testing data ...\n",
      "saving model ...\n"
     ]
    }
   ],
   "source": [
    "print(\"loading training data ...\")\n",
    "train_x, y = load_training_data('../data/Train_label.txt')\n",
    "train_x_no_label = load_training_data('../data/Train_nolabel.txt')\n",
    "\n",
    "print(\"loading testing data ...\")\n",
    "test_x = load_testing_data('../data/Test.txt')\n",
    "\n",
    "model = train_word2vec(train_x + train_x_no_label + test_x)\n",
    "\n",
    "print(\"saving model ...\")\n",
    "model.save(os.path.join('w2v_all.model'))\n"
   ]
  },
  {
   "attachments": {},
   "cell_type": "markdown",
   "id": "802b3284",
   "metadata": {},
   "source": [
    "## Parameter setting + Train\n"
   ]
  },
  {
   "cell_type": "code",
   "execution_count": 10,
   "id": "f8d7414b",
   "metadata": {},
   "outputs": [
    {
     "name": "stdout",
     "output_type": "stream",
     "text": [
      "loading data ...\n",
      "Get embedding ...\n",
      "loading word to vec model ...\n",
      "get words #23000\n"
     ]
    },
    {
     "name": "stderr",
     "output_type": "stream",
     "text": [
      "/tmp/ipykernel_13278/3754530525.py:37: UserWarning: Creating a tensor from a list of numpy.ndarrays is extremely slow. Please consider converting the list to a single numpy.ndarray with numpy.array() before converting to a tensor. (Triggered internally at /home/conda/feedstock_root/build_artifacts/pytorch-recipe_1673730874951/work/torch/csrc/utils/tensor_new.cpp:230.)\n",
      "  self.embedding_matrix = torch.tensor(self.embedding_matrix)\n"
     ]
    },
    {
     "name": "stdout",
     "output_type": "stream",
     "text": [
      "total words: 23002\n",
      "sentence count #149918\n",
      "start training, parameter total:6252751, trainable:502251\n",
      "\n",
      "[ Epoch1: 1016/1016 ] loss:0.496 acc:45.312 \n",
      "Train | Loss:0.50499 Acc: 74.316\n",
      "Valid | Loss:0.44867 Acc: 78.766 \n",
      "saving model with acc 78.766\n",
      "-----------------------------------------------\n",
      "[ Epoch2: 1016/1016 ] loss:0.489 acc:50.000 \n",
      "Train | Loss:0.42998 Acc: 80.173\n",
      "Valid | Loss:0.43245 Acc: 79.622 \n",
      "saving model with acc 79.622\n",
      "-----------------------------------------------\n",
      "[ Epoch3: 1016/1016 ] loss:0.296 acc:53.125 \n",
      "Train | Loss:0.40196 Acc: 81.712\n",
      "Valid | Loss:0.43180 Acc: 80.028 \n",
      "saving model with acc 80.028\n",
      "-----------------------------------------------\n",
      "[ Epoch4: 1016/1016 ] loss:0.390 acc:48.438 \n",
      "Train | Loss:0.37544 Acc: 83.089\n",
      "Valid | Loss:0.42269 Acc: 80.564 \n",
      "saving model with acc 80.564\n",
      "-----------------------------------------------\n",
      "[ Epoch5: 1016/1016 ] loss:0.367 acc:53.125 \n",
      "Train | Loss:0.34489 Acc: 84.821\n",
      "Valid | Loss:0.42839 Acc: 80.719 \n",
      "saving model with acc 80.719\n",
      "-----------------------------------------------\n",
      "[ Epoch6: 1016/1016 ] loss:0.262 acc:55.469 \n",
      "Train | Loss:0.30984 Acc: 86.550\n",
      "Valid | Loss:0.46107 Acc: 80.248 \n",
      "-----------------------------------------------\n",
      "[ Epoch7: 1016/1016 ] loss:0.276 acc:51.562 \n",
      "Train | Loss:0.27195 Acc: 88.596\n",
      "Valid | Loss:0.47401 Acc: 80.013 \n",
      "-----------------------------------------------\n",
      "[ Epoch8: 1016/1016 ] loss:0.264 acc:56.250 \n",
      "Train | Loss:0.23396 Acc: 90.384\n",
      "Valid | Loss:0.52464 Acc: 79.202 \n",
      "-----------------------------------------------\n",
      "[ Epoch9: 1016/1016 ] loss:0.276 acc:53.125 \n",
      "Train | Loss:0.19941 Acc: 91.959\n",
      "Valid | Loss:0.57687 Acc: 78.320 \n",
      "-----------------------------------------------\n",
      "[ Epoch10: 1016/1016 ] loss:0.162 acc:60.156 \n",
      "Train | Loss:0.17349 Acc: 93.116\n",
      "Valid | Loss:0.61620 Acc: 78.926 \n",
      "-----------------------------------------------\n"
     ]
    }
   ],
   "source": [
    "device = torch.device(\"cuda\" if torch.cuda.is_available() else \"cpu\")\n",
    "\n",
    "# set data path\n",
    "train_with_label = os.path.join('../data/Train_label.txt')\n",
    "train_no_label = os.path.join('../data/Train_nolabel.txt')\n",
    "testing_data = os.path.join('../data/Test.txt')\n",
    "testing_data = os.path.join('../data/Test.txt')\n",
    "w2v_path = os.path.join('w2v_all.model')\n",
    "\n",
    "\n",
    "sen_len = 30\n",
    "fix_embedding = True  # fix embedding during training\n",
    "batch_size = 128\n",
    "epoch = 10\n",
    "lr = 0.001\n",
    "\n",
    "print(\"loading data ...\")\n",
    "train_x, y = load_training_data(train_with_label)\n",
    "train_x_no_label = load_training_data(train_no_label)\n",
    "\n",
    "# Preprocessing\n",
    "preprocess = Preprocess(train_x, sen_len, w2v_path=w2v_path)\n",
    "embedding = preprocess.make_embedding(load=True)\n",
    "train_x = preprocess.sentence_word2idx()\n",
    "y = preprocess.labels_to_tensor(y)\n",
    "\n",
    "\n",
    "model = LSTM_Net(embedding, embedding_dim=250, hidden_dim=250, num_layers=1, dropout=0.5, fix_embedding=fix_embedding)\n",
    "model = model.to(device)  # device為\"cuda\"，model使用GPU來訓練(餵進去的inputs也需要是cuda tensor)\n",
    "\n",
    "X_train, X_val, y_train, y_val = train_x[:130000], train_x[130000:], y[:130000], y[130000:]\n",
    "\n",
    "train_dataset = TwitterDataset(X=X_train, y=y_train)\n",
    "val_dataset = TwitterDataset(X=X_val, y=y_val)\n",
    "\n",
    "# transfor data into batch of tensors\n",
    "train_loader = data.DataLoader(dataset=train_dataset, batch_size=batch_size, shuffle=True, num_workers=0)\n",
    "val_loader = data.DataLoader(dataset=val_dataset, batch_size=batch_size, shuffle=False, num_workers=0)\n",
    "\n",
    "# Begin Training\n",
    "training(batch_size, epoch, lr, train_loader, val_loader, model, device)\n"
   ]
  },
  {
   "attachments": {},
   "cell_type": "markdown",
   "id": "1902a3bb",
   "metadata": {},
   "source": [
    "## Predict and save to csv file\n"
   ]
  },
  {
   "cell_type": "code",
   "execution_count": 11,
   "id": "5442912b",
   "metadata": {
    "scrolled": true
   },
   "outputs": [
    {
     "name": "stdout",
     "output_type": "stream",
     "text": [
      "loading testing data ...\n",
      "Get embedding ...\n",
      "loading word to vec model ...\n",
      "get words #23000\n",
      "total words: 23002\n",
      "sentence count #49800\n",
      "load model ...\n",
      "save csv ...\n",
      "Finish Predicting\n"
     ]
    }
   ],
   "source": [
    "print(\"loading testing data ...\")\n",
    "test_x = load_testing_data(testing_data)\n",
    "preprocess = Preprocess(test_x, sen_len, w2v_path=w2v_path)\n",
    "embedding = preprocess.make_embedding(load=True)\n",
    "test_x = preprocess.sentence_word2idx()\n",
    "test_dataset = TwitterDataset(X=test_x, y=None)\n",
    "test_loader = data.DataLoader(dataset=test_dataset, batch_size=batch_size, shuffle=False, num_workers=0)\n",
    "print('\\nload model ...')\n",
    "model = torch.load(os.path.join('ckpt.model'))\n",
    "outputs = testing(batch_size, test_loader, model, device)\n",
    "\n",
    "# save as csv\n",
    "tmp = pd.DataFrame({\"id\": [str(i) for i in range(len(test_x))], \"labels\": outputs})\n",
    "print(\"save csv ...\")\n",
    "tmp.to_csv(os.path.join('predict.csv'), index=False)\n",
    "print(\"Finish Predicting\")\n"
   ]
  },
  {
   "attachments": {},
   "cell_type": "markdown",
   "id": "0e2d2272",
   "metadata": {},
   "source": [
    "# Hint\n",
    "\n",
    "-   Optimizer\n",
    "-   learning rate\n",
    "-   epoch\n",
    "-   batch size\n",
    "-   Activation function\n",
    "-   Self-Training for unlabel training data\n"
   ]
  }
 ],
 "metadata": {
  "kernelspec": {
   "display_name": "Python 3 (ipykernel)",
   "language": "python",
   "name": "python3"
  },
  "language_info": {
   "codemirror_mode": {
    "name": "ipython",
    "version": 3
   },
   "file_extension": ".py",
   "mimetype": "text/x-python",
   "name": "python",
   "nbconvert_exporter": "python",
   "pygments_lexer": "ipython3",
   "version": "3.10.9"
  }
 },
 "nbformat": 4,
 "nbformat_minor": 5
}
